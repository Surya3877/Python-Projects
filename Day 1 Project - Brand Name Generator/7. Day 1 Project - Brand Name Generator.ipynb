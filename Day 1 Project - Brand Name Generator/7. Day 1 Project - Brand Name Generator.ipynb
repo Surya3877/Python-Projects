{
 "cells": [
  {
   "cell_type": "markdown",
   "id": "c71f4e88-6f22-4658-bf2f-d91849996185",
   "metadata": {},
   "source": [
    "## **Brand Name Generator Project**\n",
    "\n",
    "Description\n",
    "\n",
    "    1. Create a grreting for your program\n",
    "    2. Ask the user for the city that they grew up in and store it in a variable.\n",
    "    3. Ask the user for the name of a pet and store it in a variable.\n",
    "    4. Combine the name of their city and pet and show them their band name\n",
    "\n",
    "Hint 1:\n",
    "\n",
    "You can use String Concatenation to combine strings with variables tool e.g. print(\"My name is \" + name)\n",
    "\n",
    "    5. Make sure the input cursor shows on a new line:\n",
    "\n",
    "Hint 2:\n",
    "\n",
    "Think about how you used\\n to add a new line to a string. Try putting it in some different places in your code until it does what you except. Note, when you click into the output area you will be able to click on the end of the line as well as the new line."
   ]
  },
  {
   "cell_type": "code",
   "execution_count": 2,
   "id": "ff78dcf6-36e1-45c8-be6e-0e0f2df98878",
   "metadata": {},
   "outputs": [
    {
     "name": "stdout",
     "output_type": "stream",
     "text": [
      "Welcome to the Band Name Generator\n"
     ]
    },
    {
     "name": "stdin",
     "output_type": "stream",
     "text": [
      "Which city did you grow up in?\n",
      " New york\n",
      "What is the name of your pet\n",
      " Nivi\n"
     ]
    },
    {
     "name": "stdout",
     "output_type": "stream",
     "text": [
      "Your brand name could be: New york Nivi\n"
     ]
    }
   ],
   "source": [
    "print(\"Welcome to the Band Name Generator\")\n",
    "city = input(\"Which city did you grow up in?\\n\")\n",
    "pet = input(\"What is the name of your pet\\n\")\n",
    "print(\"Your brand name could be: \" + city + \" \" + pet)"
   ]
  },
  {
   "cell_type": "code",
   "execution_count": null,
   "id": "dc5bac03-393b-4c9e-a767-13911e1adea7",
   "metadata": {},
   "outputs": [],
   "source": []
  }
 ],
 "metadata": {
  "kernelspec": {
   "display_name": "Python 3 (ipykernel)",
   "language": "python",
   "name": "python3"
  },
  "language_info": {
   "codemirror_mode": {
    "name": "ipython",
    "version": 3
   },
   "file_extension": ".py",
   "mimetype": "text/x-python",
   "name": "python",
   "nbconvert_exporter": "python",
   "pygments_lexer": "ipython3",
   "version": "3.9.18"
  }
 },
 "nbformat": 4,
 "nbformat_minor": 5
}
